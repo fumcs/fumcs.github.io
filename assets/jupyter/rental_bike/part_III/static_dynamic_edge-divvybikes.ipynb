{
 "cells": [
  {
   "cell_type": "code",
   "execution_count": null,
   "metadata": {},
   "outputs": [],
   "source": [
    "edge_index = distance_matrix[distance_matrix[\"edge\"] == True][[\"start_station_id\", \"end_station_id\"]].values\n",
    "edge_index = edge_index.transpose()\n",
    "\n",
    "distance_feature = distance_matrix[distance_matrix[\"edge\"] == True][\"distance\"].values\n",
    "edge_type_feature = np.zeros_like(distance_feature)\n",
    "trip_duration_feature = np.zeros_like(distance_feature) \n",
    "static_edge_features = np.stack([distance_feature, edge_type_feature, trip_duration_feature]).transpose()"
   ]
  },
  {
   "cell_type": "code",
   "execution_count": null,
   "metadata": {},
   "outputs": [],
   "source": [
    "def extract_dynamic_edges(s):\n",
    "\n",
    "    trip_indices = s[[\"start_station_id\", \"end_station_id\"]].values\n",
    "    trip_durations = s[\"duration\"]\n",
    "\n",
    "    distance_feature  = pd.DataFrame(trip_indices, \n",
    "                                    columns=[\"start_station_id\", \"end_station_id\"]).merge(\n",
    "                                        distance_matrix, on=[\"start_station_id\", \"end_station_id\"], \n",
    "                                        how=\"left\")[\"distance\"].values\n",
    "    edge_type_feature = np.ones_like(distance_feature) \n",
    "    trip_duration_feature = trip_durations\n",
    "    edge_features = np.stack([distance_feature, edge_type_feature, trip_duration_feature]).transpose()\n",
    "    return edge_features, trip_indices.transpose()"
   ]
  }
 ],
 "metadata": {
  "language_info": {
   "name": "python"
  },
  "orig_nbformat": 4
 },
 "nbformat": 4,
 "nbformat_minor": 2
}
