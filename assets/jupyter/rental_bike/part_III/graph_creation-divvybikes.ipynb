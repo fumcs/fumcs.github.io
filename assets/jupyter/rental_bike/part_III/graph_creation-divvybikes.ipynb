{
 "cells": [
  {
   "cell_type": "code",
   "execution_count": null,
   "metadata": {},
   "outputs": [],
   "source": [
    "start_date = datetime.strptime(\"2020-04-01 00:00:30\", \"%Y-%m-%d %H:%M:%S\")\n",
    "end_date = datetime.strptime(\"2020-05-01 00:00:00\", \"%Y-%m-%d %H:%M:%S\")\n",
    "interval = timedelta(minutes=60)\n",
    "\n",
    "xs = []\n",
    "edge_indices = []\n",
    "ys = []\n",
    "y_indices = []\n",
    "edge_features = []\n",
    "\n",
    "\n",
    "while start_date <= end_date:\n",
    "    # 0 - 60 min \n",
    "    current_snapshot = trips[((start_date + interval) >= trips[\"end_date\"])\n",
    "                                & (start_date <= trips[\"end_date\"])]\n",
    "    # 60 - 120 min\n",
    "    subsequent_snapshot = trips[((start_date + 2*interval) >= trips[\"end_date\"])\n",
    "                                & (start_date + interval <= trips[\"end_date\"])]\n",
    "\n",
    "\n",
    "    current_snapshot = current_snapshot.groupby([\"start_station_id\", \"end_station_id\"]).mean().reset_index()\n",
    "    subsequent_snapshot = subsequent_snapshot.groupby([\"start_station_id\", \"end_station_id\"]).mean().reset_index()\n",
    "\n",
    "    edge_feats, additional_edge_index = extract_dynamic_edges(current_snapshot)\n",
    "    exteneded_edge_index = np.concatenate([edge_index, additional_edge_index], axis=1)\n",
    "    extended_edge_feats = np.concatenate([edge_feats, static_edge_features], axis=0)\n",
    "\n",
    "\n",
    "    y = subsequent_snapshot[\"duration\"].values\n",
    "    y_index = subsequent_snapshot[[\"start_station_id\", \"end_station_id\"]].values\n",
    "\n",
    "    xs.append(node_features) \n",
    "    edge_indices.append(exteneded_edge_index)\n",
    "    edge_features.append(extended_edge_feats)\n",
    "    ys.append(y) \n",
    "    y_indices.append(y_index.transpose())\n",
    "\n",
    "    start_date += interval"
   ]
  }
 ],
 "metadata": {
  "language_info": {
   "name": "python"
  },
  "orig_nbformat": 4
 },
 "nbformat": 4,
 "nbformat_minor": 2
}
