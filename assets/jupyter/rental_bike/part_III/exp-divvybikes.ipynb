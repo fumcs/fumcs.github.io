{
 "cells": [
  {
   "cell_type": "code",
   "execution_count": null,
   "metadata": {},
   "outputs": [
    {
     "name": "stdout",
     "output_type": "stream",
     "text": [
      "Example of graph snapshot 4: \n",
      "\n",
      "    Node feature shape: (230, 2) \n",
      "\n",
      "    Edge index shape: (2, 703) \n",
      "\n",
      "    Edge feature shape: (703, 3) \n",
      " \n",
      "    Labels shape: (5,) \n",
      "\n",
      "    Labels mask shape: (2, 5)\n",
      "    \n"
     ]
    }
   ],
   "source": [
    "i = 4\n",
    "print(f\"\"\"Example of graph snapshot {i}: \\n\n",
    "    Node feature shape: {xs[i].shape} \\n\n",
    "    Edge index shape: {edge_indices[i].shape} \\n\n",
    "    Edge feature shape: {edge_features[i].shape} \\n \n",
    "    Labels shape: {ys[i].shape} \\n\n",
    "    Labels mask shape: {y_indices[i].shape}\n",
    "    \"\"\")"
   ]
  }
 ],
 "metadata": {
  "language_info": {
   "name": "python"
  },
  "orig_nbformat": 4
 },
 "nbformat": 4,
 "nbformat_minor": 2
}
