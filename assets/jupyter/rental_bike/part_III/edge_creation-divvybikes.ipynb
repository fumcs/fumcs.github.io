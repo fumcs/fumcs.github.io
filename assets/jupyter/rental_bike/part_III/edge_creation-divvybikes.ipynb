{
 "cells": [
  {
   "cell_type": "code",
   "execution_count": null,
   "metadata": {},
   "outputs": [],
   "source": [
    "subset = [\"start_lng\", \"start_lat\", \"start_station_id\"]\n",
    "all_starts = trips.drop_duplicates(subset=\"start_station_id\", keep=\"first\")[subset]\n",
    "\n",
    "subset = [\"end_lng\", \"end_lat\", \"end_station_id\"]\n",
    "all_ends = trips.drop_duplicates(subset=\"end_station_id\", keep=\"first\")[subset]\n",
    "distance_matrix = all_ends.merge(all_starts, how=\"cross\")\n",
    "distance_matrix[\"distance\"] = distance_matrix.apply(lambda x: geodesic((x[\"start_lat\"], x[\"start_lng\"]), \n",
    "                                                        (x[\"end_lat\"], x[\"end_lng\"])).meters, axis=1)\n",
    "#considering a specific treshhold\n",
    "distance_matrix[\"edge\"] = distance_matrix[\"distance\"] < 500"
   ]
  }
 ],
 "metadata": {
  "language_info": {
   "name": "python"
  },
  "orig_nbformat": 4
 },
 "nbformat": 4,
 "nbformat_minor": 2
}
