{
 "cells": [
  {
   "cell_type": "code",
   "execution_count": null,
   "metadata": {},
   "outputs": [
    {
     "name": "stdout",
     "output_type": "stream",
     "text": [
      "Full shape:  (603, 2)\n"
     ]
    },
    {
     "data": {
      "text/plain": [
       "array([[0.26      , 0.26203807],\n",
       "       [0.09647059, 0.09742441],\n",
       "       [0.47647059, 0.44008959],\n",
       "       [0.20941176, 0.22732363],\n",
       "       [0.18823529, 0.16797312],\n",
       "       [0.46588235, 0.40761478],\n",
       "       [0.23647059, 0.17581187],\n",
       "       [0.11058824, 0.0862262 ],\n",
       "       [0.34705882, 0.32698768],\n",
       "       [0.06470588, 0.06942889]])"
      ]
     },
     "metadata": {},
     "output_type": "display_data"
    }
   ],
   "source": [
    "#considering the incoming & outgoing trips features of every node\n",
    "outgoing_trips = trips.groupby(\"start_station_id\").count()[\"id\"].values\n",
    "incoming_trips = trips.groupby(\"end_station_id\").count()[\"id\"].values\n",
    "\n",
    "all_station_ids = set(trips[\"start_station_id\"].unique()) | set(trips[\"end_station_id\"].unique())\n",
    "\n",
    "outgoing_trips = np.pad(outgoing_trips, (0, len(all_station_ids) - len(outgoing_trips)), mode='constant')\n",
    "incoming_trips = np.pad(incoming_trips, (0, len(all_station_ids) - len(incoming_trips)), mode='constant')\n",
    "\n",
    "outgoing_trips = (outgoing_trips - np.min(outgoing_trips)) / (np.max(outgoing_trips) - np.min(outgoing_trips))\n",
    "incoming_trips = (incoming_trips - np.min(incoming_trips)) / (np.max(incoming_trips) - np.min(incoming_trips))\n",
    "\n",
    "node_features = np.stack([outgoing_trips, incoming_trips]).transpose()\n",
    "print(\"Full shape: \", node_features.shape)\n",
    "node_features[:10]\n"
   ]
  }
 ],
 "metadata": {
  "language_info": {
   "name": "python"
  },
  "orig_nbformat": 4
 },
 "nbformat": 4,
 "nbformat_minor": 2
}
